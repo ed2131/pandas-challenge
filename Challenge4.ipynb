{
 "cells": [
  {
   "cell_type": "code",
   "execution_count": 42,
   "id": "9ffd251b-e057-4d30-8548-e16d498aca9c",
   "metadata": {
    "tags": []
   },
   "outputs": [],
   "source": [
    "import pandas as pd \n",
    "import os\n",
    "\n"
   ]
  },
  {
   "cell_type": "code",
   "execution_count": 43,
   "id": "e2569442-2e97-4cff-9040-230672c70c1c",
   "metadata": {
    "tags": []
   },
   "outputs": [
    {
     "name": "stdout",
     "output_type": "stream",
     "text": [
      "   School ID            school_name         type  size   budget\n",
      "0          0      Huang High School   Government  2917  1910635\n",
      "1          1   Figueroa High School   Government  2949  1884411\n",
      "2          2    Shelton High School  Independent  1761  1056600\n",
      "3          3  Hernandez High School   Government  4635  3022020\n",
      "4          4    Griffin High School  Independent  1468   917500\n"
     ]
    }
   ],
   "source": [
    "# Load the data\n",
    "schools_df = pd.read_csv('schools_complete.csv')\n",
    "\n",
    "# Display the first few rows of the dataframe\n",
    "print(schools_df.head())"
   ]
  },
  {
   "cell_type": "code",
   "execution_count": 44,
   "id": "62584195-8d96-4087-a455-25e657be0b67",
   "metadata": {
    "tags": []
   },
   "outputs": [
    {
     "name": "stdout",
     "output_type": "stream",
     "text": [
      "   Student ID     student_name gender  year        school_name  reading_score  \\\n",
      "0           0     Paul Bradley      M     9  Huang High School             96   \n",
      "1           1     Victor Smith      M    12  Huang High School             90   \n",
      "2           2  Kevin Rodriguez      M    12  Huang High School             41   \n",
      "3           3    Richard Scott      M    12  Huang High School             89   \n",
      "4           4       Bonnie Ray      F     9  Huang High School             87   \n",
      "\n",
      "   maths_score  \n",
      "0           94  \n",
      "1           43  \n",
      "2           76  \n",
      "3           86  \n",
      "4           69  \n"
     ]
    }
   ],
   "source": [
    "students_df = pd.read_csv('students_complete.csv')\n",
    "print(students_df.head())"
   ]
  },
  {
   "cell_type": "code",
   "execution_count": 45,
   "id": "612109e8-8047-4548-a8c7-46db52e691e0",
   "metadata": {
    "tags": []
   },
   "outputs": [],
   "source": [
    "# This data contains information about various students, including their ID, name, gender, year (grade level), school name, and their scores in reading and maths."
   ]
  },
  {
   "cell_type": "code",
   "execution_count": 46,
   "id": "da46a1e3-77fd-494a-9933-3767fef7e2f0",
   "metadata": {
    "tags": []
   },
   "outputs": [
    {
     "name": "stdout",
     "output_type": "stream",
     "text": [
      "   Student ID     student_name gender  year        school_name  reading_score  \\\n",
      "0           0     Paul Bradley      M     9  Huang High School             96   \n",
      "1           1     Victor Smith      M    12  Huang High School             90   \n",
      "2           2  Kevin Rodriguez      M    12  Huang High School             41   \n",
      "3           3    Richard Scott      M    12  Huang High School             89   \n",
      "4           4       Bonnie Ray      F     9  Huang High School             87   \n",
      "\n",
      "   maths_score  School ID        type  size   budget  \n",
      "0           94          0  Government  2917  1910635  \n",
      "1           43          0  Government  2917  1910635  \n",
      "2           76          0  Government  2917  1910635  \n",
      "3           86          0  Government  2917  1910635  \n",
      "4           69          0  Government  2917  1910635  \n"
     ]
    }
   ],
   "source": [
    "# merging the two dataframes on the school_name column to get a complete view of the data.\n",
    "merged_df = pd.merge(students_df, schools_df, how='left', on='school_name')\n",
    "print(merged_df.head())"
   ]
  },
  {
   "cell_type": "code",
   "execution_count": 47,
   "id": "26b63cc2-6fca-4f47-bd6e-6d4b3b5bd8a6",
   "metadata": {
    "tags": []
   },
   "outputs": [
    {
     "name": "stdout",
     "output_type": "stream",
     "text": [
      "                      Total Students  Total School Budget  Average Math Score  \\\n",
      "school_name                                                                     \n",
      "Bailey High School              4976            3124928.0           72.352894   \n",
      "Cabrera High School             1858            1081356.0           71.657158   \n",
      "Figueroa High School            2949            1884411.0           68.698542   \n",
      "Ford High School                2739            1763916.0           69.091274   \n",
      "Griffin High School             1468             917500.0           71.788147   \n",
      "\n",
      "                      Average Reading Score  Per Student Budget  \\\n",
      "school_name                                                       \n",
      "Bailey High School                71.008842               628.0   \n",
      "Cabrera High School               71.359526               582.0   \n",
      "Figueroa High School              69.077993               639.0   \n",
      "Ford High School                  69.572472               644.0   \n",
      "Griffin High School               71.245232               625.0   \n",
      "\n",
      "                      % Passing Math  % Passing Reading  \\\n",
      "school_name                                               \n",
      "Bailey High School         55.225080          52.451768   \n",
      "Cabrera High School        53.175457          53.283100   \n",
      "Figueroa High School       47.677179          49.169210   \n",
      "Ford High School           48.959474          50.492881   \n",
      "Griffin High School        54.700272          54.155313   \n",
      "\n",
      "                      % Overall Passing Rate  \n",
      "school_name                                   \n",
      "Bailey High School                 53.838424  \n",
      "Cabrera High School                53.229279  \n",
      "Figueroa High School               48.423194  \n",
      "Ford High School                   49.726177  \n",
      "Griffin High School                54.427793  \n"
     ]
    }
   ],
   "source": [
    "#Now we start analyzing to identify trends. calculate the average reading and maths scores for each school and the percentage of students who passed maths and reading (scored 70 or above), and the overall passing rate (the average of the maths and reading passing rates).\n",
    "school_summary = merged_df.groupby('school_name').agg({'student_name': 'count', 'budget': 'mean', 'maths_score': 'mean', 'reading_score': 'mean'})\n",
    "school_summary.columns = ['Total Students', 'Total School Budget', 'Average Math Score', 'Average Reading Score']\n",
    "school_summary['Per Student Budget'] = school_summary['Total School Budget'] / school_summary['Total Students']\n",
    "\n",
    "# Calculate the percentage of students with a passing math score (70 or greater)\n",
    "maths_passing = merged_df[merged_df['maths_score'] >= 70].groupby('school_name')['Student ID'].count()\n",
    "school_summary['% Passing Math'] = (maths_passing / school_summary['Total Students']) * 100\n",
    "\n",
    "# Calculate the percentage of students with a passing reading score (70 or greater)\n",
    "reading_passing = merged_df[merged_df['reading_score'] >= 70].groupby('school_name')['Student ID'].count()\n",
    "school_summary['% Passing Reading'] = (reading_passing / school_summary['Total Students']) * 100\n",
    "\n",
    "# Calculate the overall passing rate (overall average score), i.e. (avg. math score + avg. reading score)/2\n",
    "school_summary['% Overall Passing Rate'] = (school_summary['% Passing Math'] + school_summary['% Passing Reading']) / 2\n",
    "\n",
    "print(school_summary.head())"
   ]
  },
  {
   "cell_type": "code",
   "execution_count": 48,
   "id": "fb918825-beb7-46a6-b8b0-40f4d3855f1a",
   "metadata": {
    "tags": []
   },
   "outputs": [
    {
     "name": "stdout",
     "output_type": "stream",
     "text": [
      "   Total Schools  Total Students  Total Budget  Average Math Score  \\\n",
      "0             15           39170      24649428           70.338192   \n",
      "\n",
      "   Average Reading Score  % Passing Math  % Passing Reading  % Overall Passing  \n",
      "0              69.980138       86.078632          84.426857          72.808272  \n"
     ]
    }
   ],
   "source": [
    "# Local government area summary\n",
    "total_schools = schools_df['school_name'].nunique()\n",
    "total_students = students_df['Student ID'].nunique()\n",
    "total_budget = schools_df['budget'].sum()\n",
    "avg_math_score = students_df['maths_score'].mean()\n",
    "avg_reading_score = students_df['reading_score'].mean()\n",
    "\n",
    "# Calculate the percentage of students with a passing math score (50 or greater)\n",
    "maths_passing = students_df[students_df['maths_score'] >= 50]['Student ID'].count()\n",
    "percent_passing_math = (maths_passing / total_students) * 100\n",
    "\n",
    "# Calculate the percentage of students with a passing reading score (50 or greater)\n",
    "reading_passing = students_df[students_df['reading_score'] >= 50]['Student ID'].count()\n",
    "percent_passing_reading = (reading_passing / total_students) * 100\n",
    "\n",
    "# Calculate the percentage of students who passed math and reading (% Overall Passing)\n",
    "overall_passing = students_df[(students_df['maths_score'] >= 50) & (students_df['reading_score'] >= 50)]['Student ID'].count()\n",
    "percent_overall_passing = (overall_passing / total_students) * 100\n",
    "\n",
    "# Create a dataframe to hold the above results\n",
    "district_summary = pd.DataFrame({\n",
    "  'Total Schools': [total_schools],\n",
    "  'Total Students': [total_students],\n",
    "  'Total Budget': [total_budget],\n",
    "  'Average Math Score': [avg_math_score],\n",
    "  'Average Reading Score': [avg_reading_score],\n",
    "  '% Passing Math': [percent_passing_math],\n",
    "  '% Passing Reading': [percent_passing_reading],\n",
    "  '% Overall Passing': [percent_overall_passing]\n",
    "})\n",
    "\n",
    "print(district_summary)\n"
   ]
  },
  {
   "cell_type": "code",
   "execution_count": 49,
   "id": "ba5fda98-0756-4973-8c34-816d30434b0a",
   "metadata": {
    "tags": []
   },
   "outputs": [
    {
     "data": {
      "text/plain": [
       "['|    |   Total Schools |   Total Students |   Total Budget |   Average Math Score |   Average Reading Score |   % Passing Math |   % Passing Reading |   % Overall Passing |\\n|-|-|-|-|-|-|-|-|-|\\n|  0 |              15 |            39170 |       24649428 |              70.3382 |                 69.9801 |          86.0786 |             84.4269 |             72.8083 |\\n']"
      ]
     },
     "execution_count": 49,
     "metadata": {},
     "output_type": "execute_result"
    }
   ],
   "source": [
    "[\n",
    "  \"|    |   Total Schools |   Total Students |   Total Budget |   Average Math Score |   Average Reading Score |   % Passing Math |   % Passing Reading |   % Overall Passing |\\n|-|-|-|-|-|-|-|-|-|\\n|  0 |              15 |            39170 |       24649428 |              70.3382 |                 69.9801 |          86.0786 |             84.4269 |             72.8083 |\\n\"\n",
    "]"
   ]
  },
  {
   "cell_type": "code",
   "execution_count": 50,
   "id": "2c5881e6-47ec-4c8b-a036-7d25c73b9029",
   "metadata": {
    "tags": []
   },
   "outputs": [
    {
     "name": "stdout",
     "output_type": "stream",
     "text": [
      "                                  Total Students  Total School Budget  \\\n",
      "school_name          type                                               \n",
      "Bailey High School   Government             4976            3124928.0   \n",
      "Cabrera High School  Independent            1858            1081356.0   \n",
      "Figueroa High School Government             2949            1884411.0   \n",
      "Ford High School     Government             2739            1763916.0   \n",
      "Griffin High School  Independent            1468             917500.0   \n",
      "\n",
      "                                  Average Math Score  Average Reading Score  \\\n",
      "school_name          type                                                     \n",
      "Bailey High School   Government            72.352894              71.008842   \n",
      "Cabrera High School  Independent           71.657158              71.359526   \n",
      "Figueroa High School Government            68.698542              69.077993   \n",
      "Ford High School     Government            69.091274              69.572472   \n",
      "Griffin High School  Independent           71.788147              71.245232   \n",
      "\n",
      "                                  Per Student Budget  % Passing Math  \\\n",
      "school_name          type                                              \n",
      "Bailey High School   Government                628.0       91.639871   \n",
      "Cabrera High School  Independent               582.0       90.850377   \n",
      "Figueroa High School Government                639.0       81.654798   \n",
      "Ford High School     Government                644.0       82.438846   \n",
      "Griffin High School  Independent               625.0       91.212534   \n",
      "\n",
      "                                  % Passing Reading  % Overall Passing  \n",
      "school_name          type                                               \n",
      "Bailey High School   Government           87.379421          89.509646  \n",
      "Cabrera High School  Independent          89.074273          89.962325  \n",
      "Figueroa High School Government           82.807731          82.231265  \n",
      "Ford High School     Government           82.219788          82.329317  \n",
      "Griffin High School  Independent          88.487738          89.850136  \n"
     ]
    }
   ],
   "source": [
    "# School summary\n",
    "school_summary = merged_df.groupby(['school_name', 'type']).agg({'student_name': 'count', 'budget': 'mean', 'maths_score': 'mean', 'reading_score': 'mean'})\n",
    "school_summary.columns = ['Total Students', 'Total School Budget', 'Average Math Score', 'Average Reading Score']\n",
    "school_summary['Per Student Budget'] = school_summary['Total School Budget'] / school_summary['Total Students']\n",
    "\n",
    "# Calculate the percentage of students with a passing math score (50 or greater)\n",
    "maths_passing = merged_df[merged_df['maths_score'] >= 50].groupby(['school_name', 'type'])['Student ID'].count()\n",
    "school_summary['% Passing Math'] = (maths_passing / school_summary['Total Students']) * 100\n",
    "\n",
    "# Calculate the percentage of students with a passing reading score (50 or greater)\n",
    "reading_passing = merged_df[merged_df['reading_score'] >= 50].groupby(['school_name', 'type'])['Student ID'].count()\n",
    "school_summary['% Passing Reading'] = (reading_passing / school_summary['Total Students']) * 100\n",
    "\n",
    "# Calculate the overall passing rate (overall average score), i.e. (avg. math score + avg. reading score)/2\n",
    "school_summary['% Overall Passing'] = (school_summary['% Passing Math'] + school_summary['% Passing Reading']) / 2\n",
    "\n",
    "print(school_summary.head())"
   ]
  },
  {
   "cell_type": "code",
   "execution_count": 51,
   "id": "9513081d-ed32-42f4-8a68-dcd3125eeb27",
   "metadata": {
    "tags": []
   },
   "outputs": [
    {
     "name": "stdout",
     "output_type": "stream",
     "text": [
      "                                 Total Students  Total School Budget  \\\n",
      "school_name         type                                               \n",
      "Cabrera High School Independent            1858            1081356.0   \n",
      "Griffin High School Independent            1468             917500.0   \n",
      "Bailey High School  Government             4976            3124928.0   \n",
      "Holden High School  Independent             427             248087.0   \n",
      "Wright High School  Independent            1800            1049400.0   \n",
      "\n",
      "                                 Average Math Score  Average Reading Score  \\\n",
      "school_name         type                                                     \n",
      "Cabrera High School Independent           71.657158              71.359526   \n",
      "Griffin High School Independent           71.788147              71.245232   \n",
      "Bailey High School  Government            72.352894              71.008842   \n",
      "Holden High School  Independent           72.583138              71.660422   \n",
      "Wright High School  Independent           72.047222              70.969444   \n",
      "\n",
      "                                 Per Student Budget  % Passing Math  \\\n",
      "school_name         type                                              \n",
      "Cabrera High School Independent               582.0       90.850377   \n",
      "Griffin High School Independent               625.0       91.212534   \n",
      "Bailey High School  Government                628.0       91.639871   \n",
      "Holden High School  Independent               581.0       89.929742   \n",
      "Wright High School  Independent               583.0       91.777778   \n",
      "\n",
      "                                 % Passing Reading  % Overall Passing  \n",
      "school_name         type                                               \n",
      "Cabrera High School Independent          89.074273          89.962325  \n",
      "Griffin High School Independent          88.487738          89.850136  \n",
      "Bailey High School  Government           87.379421          89.509646  \n",
      "Holden High School  Independent          88.524590          89.227166  \n",
      "Wright High School  Independent          86.666667          89.222222  \n"
     ]
    }
   ],
   "source": [
    "# Top Performing Schools (By % Overall Passing)\n",
    "top_schools = school_summary.sort_values('% Overall Passing', ascending=False).head()\n",
    "print(top_schools)\n"
   ]
  },
  {
   "cell_type": "code",
   "execution_count": 52,
   "id": "0e0f8e8a-52af-40e0-b8de-e917da7d1dfc",
   "metadata": {
    "tags": []
   },
   "outputs": [
    {
     "name": "stdout",
     "output_type": "stream",
     "text": [
      "                                   Total Students  Total School Budget  \\\n",
      "school_name           type                                               \n",
      "Hernandez High School Government             4635            3022020.0   \n",
      "Huang High School     Government             2917            1910635.0   \n",
      "Johnson High School   Government             4761            3094650.0   \n",
      "Wilson High School    Independent            2283            1319574.0   \n",
      "Figueroa High School  Government             2949            1884411.0   \n",
      "\n",
      "                                   Average Math Score  Average Reading Score  \\\n",
      "school_name           type                                                     \n",
      "Hernandez High School Government            68.874865              69.186408   \n",
      "Huang High School     Government            68.935207              68.910525   \n",
      "Johnson High School   Government            68.843100              69.039277   \n",
      "Wilson High School    Independent           69.170828              68.876916   \n",
      "Figueroa High School  Government            68.698542              69.077993   \n",
      "\n",
      "                                   Per Student Budget  % Passing Math  \\\n",
      "school_name           type                                              \n",
      "Hernandez High School Government                652.0       80.949299   \n",
      "Huang High School     Government                655.0       81.693521   \n",
      "Johnson High School   Government                650.0       82.062592   \n",
      "Wilson High School    Independent               578.0       82.785808   \n",
      "Figueroa High School  Government                639.0       81.654798   \n",
      "\n",
      "                                   % Passing Reading  % Overall Passing  \n",
      "school_name           type                                               \n",
      "Hernandez High School Government           81.877023          81.413161  \n",
      "Huang High School     Government           81.453548          81.573534  \n",
      "Johnson High School   Government           81.978576          82.020584  \n",
      "Wilson High School    Independent          81.296540          82.041174  \n",
      "Figueroa High School  Government           82.807731          82.231265  \n"
     ]
    }
   ],
   "source": [
    "# Bottom performing schools \n",
    "bottom_schools = school_summary.sort_values('% Overall Passing', ascending=True).head()\n",
    "print(bottom_schools)"
   ]
  },
  {
   "cell_type": "code",
   "execution_count": 53,
   "id": "ca79eb31-06fc-4657-a553-3bf3b8c6ef06",
   "metadata": {
    "tags": []
   },
   "outputs": [
    {
     "name": "stdout",
     "output_type": "stream",
     "text": [
      "year                         9          10         11         12\n",
      "school_name                                                     \n",
      "Bailey High School    72.493827  71.897498  72.374900  72.675097\n",
      "Cabrera High School   72.321970  72.437768  71.008299  70.604712\n",
      "Figueroa High School  68.477804  68.331586  68.811001  69.325282\n",
      "Ford High School      69.021609  69.387006  69.248862  68.617811\n",
      "Griffin High School   72.789731  71.093596  71.692521  71.469178\n"
     ]
    }
   ],
   "source": [
    "# Maths Scores by Year\n",
    "maths_scores_by_year = merged_df.groupby(['school_name', 'year'])['maths_score'].mean().unstack()\n",
    "print(maths_scores_by_year.head())\n",
    "\n"
   ]
  },
  {
   "cell_type": "code",
   "execution_count": 54,
   "id": "d62cb9d0-d8a2-42a6-828a-6f9dff909095",
   "metadata": {
    "tags": []
   },
   "outputs": [
    {
     "name": "stdout",
     "output_type": "stream",
     "text": [
      "year                         9          10         11         12\n",
      "school_name                                                     \n",
      "Bailey High School    70.901920  70.848265  70.317346  72.195525\n",
      "Cabrera High School   71.172348  71.328326  71.201245  71.856021\n",
      "Figueroa High School  70.261682  67.677588  69.152327  69.082126\n",
      "Ford High School      69.615846  68.988701  70.735964  68.849722\n",
      "Griffin High School   72.026895  70.746305  72.385042  69.434932\n"
     ]
    }
   ],
   "source": [
    "# Reading scores by year\n",
    "reading_scores_by_year = merged_df.groupby(['school_name', 'year'])['reading_score'].mean().unstack()\n",
    "print(reading_scores_by_year.head())"
   ]
  },
  {
   "cell_type": "code",
   "execution_count": 55,
   "id": "9e536fc1-7c47-43af-a26a-f3905f1d4eee",
   "metadata": {
    "tags": []
   },
   "outputs": [
    {
     "name": "stdout",
     "output_type": "stream",
     "text": [
      "                               Average Math Score  Average Reading Score  \\\n",
      "Spending Ranges (Per Student)                                              \n",
      "<$585                                   71.364587              70.716577   \n",
      "$585-630                                72.061215              70.935557   \n",
      "$630-645                                70.593378              70.268222   \n",
      "$645-680                                68.884391              69.045403   \n",
      "\n",
      "                               % Passing Math  % Passing Reading  \\\n",
      "Spending Ranges (Per Student)                                      \n",
      "<$585                               88.835926          86.390517   \n",
      "$585-630                            91.611445          86.651266   \n",
      "$630-645                            86.932827          85.153583   \n",
      "$645-680                            81.568470          81.769716   \n",
      "\n",
      "                               % Overall Passing  \n",
      "Spending Ranges (Per Student)                     \n",
      "<$585                                  87.613222  \n",
      "$585-630                               89.131356  \n",
      "$630-645                               86.043205  \n",
      "$645-680                               81.669093  \n"
     ]
    }
   ],
   "source": [
    "# Scores by School Spending\n",
    "spending_bins = [0, 585, 615, 645, 675]\n",
    "bin_names = ['<$585', '$585-630', '$630-645', '$645-680']\n",
    "school_summary['Spending Ranges (Per Student)'] = pd.cut(school_summary['Per Student Budget'], spending_bins, labels=bin_names)\n",
    "spending_summary = school_summary.groupby('Spending Ranges (Per Student)').mean()\n",
    "spending_summary = spending_summary[['Average Math Score', 'Average Reading Score', '% Passing Math', '% Passing Reading', '% Overall Passing']]\n",
    "print(spending_summary)"
   ]
  },
  {
   "cell_type": "code",
   "execution_count": 56,
   "id": "a05b19f0-fe2f-40ab-961c-1c7b91a38a84",
   "metadata": {
    "tags": []
   },
   "outputs": [
    {
     "name": "stdout",
     "output_type": "stream",
     "text": [
      "                               Average Math Score  Average Reading Score  \\\n",
      "Spending Ranges (Per Student)                                              \n",
      "<$585                                   71.364587              70.716577   \n",
      "$585-630                                72.061215              70.935557   \n",
      "$630-645                                70.593378              70.268222   \n",
      "$645-680                                68.884391              69.045403   \n",
      "\n",
      "                               % Passing Math  % Passing Reading  \\\n",
      "Spending Ranges (Per Student)                                      \n",
      "<$585                               88.835926          86.390517   \n",
      "$585-630                            91.611445          86.651266   \n",
      "$630-645                            86.932827          85.153583   \n",
      "$645-680                            81.568470          81.769716   \n",
      "\n",
      "                               % Overall Passing  \n",
      "Spending Ranges (Per Student)                     \n",
      "<$585                                  87.613222  \n",
      "$585-630                               89.131356  \n",
      "$630-645                               86.043205  \n",
      "$645-680                               81.669093  \n"
     ]
    }
   ],
   "source": [
    "# Scores by school spending\n",
    "spending_math_scores = school_summary.groupby(['Spending Ranges (Per Student)'])['Average Math Score'].mean()\n",
    "spending_reading_scores = school_summary.groupby(['Spending Ranges (Per Student)'])['Average Reading Score'].mean()\n",
    "spending_passing_math = school_summary.groupby(['Spending Ranges (Per Student)'])['% Passing Math'].mean()\n",
    "spending_passing_reading = school_summary.groupby(['Spending Ranges (Per Student)'])['% Passing Reading'].mean()\n",
    "overall_passing_spending = school_summary.groupby(['Spending Ranges (Per Student)'])['% Overall Passing'].mean()\n",
    "\n",
    "spending_summary = pd.DataFrame({\n",
    "    'Average Math Score': spending_math_scores,\n",
    "    'Average Reading Score': spending_reading_scores,\n",
    "    '% Passing Math': spending_passing_math,\n",
    "    '% Passing Reading': spending_passing_reading,\n",
    "    '% Overall Passing': overall_passing_spending\n",
    "})\n",
    "\n",
    "print(spending_summary)"
   ]
  },
  {
   "cell_type": "code",
   "execution_count": 57,
   "id": "13d3dffe-0937-4951-bf02-ddd613b9c88c",
   "metadata": {
    "tags": []
   },
   "outputs": [
    {
     "name": "stdout",
     "output_type": "stream",
     "text": [
      "                    Average Math Score  Average Reading Score  % Passing Math  \\\n",
      "School Size                                                                     \n",
      "Small (<1000)                72.335748              71.636864       90.806867   \n",
      "Medium (1000-2000)           71.421650              70.720164       89.846560   \n",
      "Large (2000-5000)            69.751809              69.576052       84.252804   \n",
      "\n",
      "                    % Passing Reading  % Overall Passing  \n",
      "School Size                                               \n",
      "Small (<1000)               87.557513          89.182190  \n",
      "Medium (1000-2000)          86.714149          88.280354  \n",
      "Large (2000-5000)           83.301185          83.776994  \n"
     ]
    },
    {
     "name": "stderr",
     "output_type": "stream",
     "text": [
      "/var/folders/ng/szh1__4n07v4k53yjxz0c8_00000gn/T/ipykernel_10726/2053003898.py:5: FutureWarning: The default value of numeric_only in DataFrameGroupBy.mean is deprecated. In a future version, numeric_only will default to False. Either specify numeric_only or select only columns which should be valid for the function.\n",
      "  size_summary = school_summary.groupby('School Size').mean()\n"
     ]
    }
   ],
   "source": [
    "# Score by School Size\n",
    "size_bins = [0, 1000, 2000, 5000]\n",
    "labels = ['Small (<1000)', 'Medium (1000-2000)', 'Large (2000-5000)']\n",
    "school_summary['School Size'] = pd.cut(school_summary['Total Students'], size_bins, labels=labels)\n",
    "size_summary = school_summary.groupby('School Size').mean()\n",
    "size_summary = size_summary[['Average Math Score', 'Average Reading Score', '% Passing Math', '% Passing Reading', '% Overall Passing']]\n",
    "print(size_summary)"
   ]
  },
  {
   "cell_type": "code",
   "execution_count": 60,
   "id": "9987a33e-ac98-4860-944f-a6da1ac47c4e",
   "metadata": {
    "tags": []
   },
   "outputs": [
    {
     "name": "stdout",
     "output_type": "stream",
     "text": [
      "'School Type'\n"
     ]
    }
   ],
   "source": [
    "try:\n",
    "    type_summary = school_summary.groupby('School Type').mean()\n",
    "    type_summary = type_summary[['Average Math Score', 'Average Reading Score', '% Passing Math', '% Passing Reading', '% Overall Passing']]\n",
    "    print(type_summary)\n",
    "except Exception as e:\n",
    "    print(str(e))"
   ]
  },
  {
   "cell_type": "code",
   "execution_count": 61,
   "id": "04257f01-fc68-4ea9-acaa-a81ce1b9d034",
   "metadata": {
    "tags": []
   },
   "outputs": [
    {
     "ename": "KeyError",
     "evalue": "'School Type'",
     "output_type": "error",
     "traceback": [
      "\u001b[0;31m---------------------------------------------------------------------------\u001b[0m",
      "\u001b[0;31mKeyError\u001b[0m                                  Traceback (most recent call last)",
      "File \u001b[0;32m~/anaconda3/lib/python3.11/site-packages/pandas/core/indexes/base.py:3802\u001b[0m, in \u001b[0;36mIndex.get_loc\u001b[0;34m(self, key, method, tolerance)\u001b[0m\n\u001b[1;32m   3801\u001b[0m \u001b[38;5;28;01mtry\u001b[39;00m:\n\u001b[0;32m-> 3802\u001b[0m     \u001b[38;5;28;01mreturn\u001b[39;00m \u001b[38;5;28mself\u001b[39m\u001b[38;5;241m.\u001b[39m_engine\u001b[38;5;241m.\u001b[39mget_loc(casted_key)\n\u001b[1;32m   3803\u001b[0m \u001b[38;5;28;01mexcept\u001b[39;00m \u001b[38;5;167;01mKeyError\u001b[39;00m \u001b[38;5;28;01mas\u001b[39;00m err:\n",
      "File \u001b[0;32m~/anaconda3/lib/python3.11/site-packages/pandas/_libs/index.pyx:138\u001b[0m, in \u001b[0;36mpandas._libs.index.IndexEngine.get_loc\u001b[0;34m()\u001b[0m\n",
      "File \u001b[0;32m~/anaconda3/lib/python3.11/site-packages/pandas/_libs/index.pyx:165\u001b[0m, in \u001b[0;36mpandas._libs.index.IndexEngine.get_loc\u001b[0;34m()\u001b[0m\n",
      "File \u001b[0;32mpandas/_libs/hashtable_class_helper.pxi:5745\u001b[0m, in \u001b[0;36mpandas._libs.hashtable.PyObjectHashTable.get_item\u001b[0;34m()\u001b[0m\n",
      "File \u001b[0;32mpandas/_libs/hashtable_class_helper.pxi:5753\u001b[0m, in \u001b[0;36mpandas._libs.hashtable.PyObjectHashTable.get_item\u001b[0;34m()\u001b[0m\n",
      "\u001b[0;31mKeyError\u001b[0m: 'School Type'",
      "\nThe above exception was the direct cause of the following exception:\n",
      "\u001b[0;31mKeyError\u001b[0m                                  Traceback (most recent call last)",
      "Cell \u001b[0;32mIn[61], line 1\u001b[0m\n\u001b[0;32m----> 1\u001b[0m \u001b[38;5;28mprint\u001b[39m(school_summary[\u001b[38;5;124m'\u001b[39m\u001b[38;5;124mSchool Type\u001b[39m\u001b[38;5;124m'\u001b[39m]\u001b[38;5;241m.\u001b[39mvalue_counts())\n",
      "File \u001b[0;32m~/anaconda3/lib/python3.11/site-packages/pandas/core/frame.py:3807\u001b[0m, in \u001b[0;36mDataFrame.__getitem__\u001b[0;34m(self, key)\u001b[0m\n\u001b[1;32m   3805\u001b[0m \u001b[38;5;28;01mif\u001b[39;00m \u001b[38;5;28mself\u001b[39m\u001b[38;5;241m.\u001b[39mcolumns\u001b[38;5;241m.\u001b[39mnlevels \u001b[38;5;241m>\u001b[39m \u001b[38;5;241m1\u001b[39m:\n\u001b[1;32m   3806\u001b[0m     \u001b[38;5;28;01mreturn\u001b[39;00m \u001b[38;5;28mself\u001b[39m\u001b[38;5;241m.\u001b[39m_getitem_multilevel(key)\n\u001b[0;32m-> 3807\u001b[0m indexer \u001b[38;5;241m=\u001b[39m \u001b[38;5;28mself\u001b[39m\u001b[38;5;241m.\u001b[39mcolumns\u001b[38;5;241m.\u001b[39mget_loc(key)\n\u001b[1;32m   3808\u001b[0m \u001b[38;5;28;01mif\u001b[39;00m is_integer(indexer):\n\u001b[1;32m   3809\u001b[0m     indexer \u001b[38;5;241m=\u001b[39m [indexer]\n",
      "File \u001b[0;32m~/anaconda3/lib/python3.11/site-packages/pandas/core/indexes/base.py:3804\u001b[0m, in \u001b[0;36mIndex.get_loc\u001b[0;34m(self, key, method, tolerance)\u001b[0m\n\u001b[1;32m   3802\u001b[0m     \u001b[38;5;28;01mreturn\u001b[39;00m \u001b[38;5;28mself\u001b[39m\u001b[38;5;241m.\u001b[39m_engine\u001b[38;5;241m.\u001b[39mget_loc(casted_key)\n\u001b[1;32m   3803\u001b[0m \u001b[38;5;28;01mexcept\u001b[39;00m \u001b[38;5;167;01mKeyError\u001b[39;00m \u001b[38;5;28;01mas\u001b[39;00m err:\n\u001b[0;32m-> 3804\u001b[0m     \u001b[38;5;28;01mraise\u001b[39;00m \u001b[38;5;167;01mKeyError\u001b[39;00m(key) \u001b[38;5;28;01mfrom\u001b[39;00m \u001b[38;5;21;01merr\u001b[39;00m\n\u001b[1;32m   3805\u001b[0m \u001b[38;5;28;01mexcept\u001b[39;00m \u001b[38;5;167;01mTypeError\u001b[39;00m:\n\u001b[1;32m   3806\u001b[0m     \u001b[38;5;66;03m# If we have a listlike key, _check_indexing_error will raise\u001b[39;00m\n\u001b[1;32m   3807\u001b[0m     \u001b[38;5;66;03m#  InvalidIndexError. Otherwise we fall through and re-raise\u001b[39;00m\n\u001b[1;32m   3808\u001b[0m     \u001b[38;5;66;03m#  the TypeError.\u001b[39;00m\n\u001b[1;32m   3809\u001b[0m     \u001b[38;5;28mself\u001b[39m\u001b[38;5;241m.\u001b[39m_check_indexing_error(key)\n",
      "\u001b[0;31mKeyError\u001b[0m: 'School Type'"
     ]
    }
   ],
   "source": [
    "print(school_summary['School Type'].value_counts())"
   ]
  },
  {
   "cell_type": "code",
   "execution_count": 62,
   "id": "9de9b9a9-a08d-4c59-bf8d-b92cc2fc3828",
   "metadata": {
    "tags": []
   },
   "outputs": [
    {
     "ename": "KeyError",
     "evalue": "'School Type'",
     "output_type": "error",
     "traceback": [
      "\u001b[0;31m---------------------------------------------------------------------------\u001b[0m",
      "\u001b[0;31mKeyError\u001b[0m                                  Traceback (most recent call last)",
      "Cell \u001b[0;32mIn[62], line 1\u001b[0m\n\u001b[0;32m----> 1\u001b[0m type_summary \u001b[38;5;241m=\u001b[39m school_summary\u001b[38;5;241m.\u001b[39mgroupby(\u001b[38;5;124m'\u001b[39m\u001b[38;5;124mSchool Type\u001b[39m\u001b[38;5;124m'\u001b[39m)\u001b[38;5;241m.\u001b[39mmean()\n\u001b[1;32m      2\u001b[0m type_summary \u001b[38;5;241m=\u001b[39m type_summary[[\u001b[38;5;124m'\u001b[39m\u001b[38;5;124mAverage Math Score\u001b[39m\u001b[38;5;124m'\u001b[39m, \u001b[38;5;124m'\u001b[39m\u001b[38;5;124mAverage Reading Score\u001b[39m\u001b[38;5;124m'\u001b[39m, \u001b[38;5;124m'\u001b[39m\u001b[38;5;124m%\u001b[39m\u001b[38;5;124m Passing Math\u001b[39m\u001b[38;5;124m'\u001b[39m, \u001b[38;5;124m'\u001b[39m\u001b[38;5;124m%\u001b[39m\u001b[38;5;124m Passing Reading\u001b[39m\u001b[38;5;124m'\u001b[39m, \u001b[38;5;124m'\u001b[39m\u001b[38;5;124m%\u001b[39m\u001b[38;5;124m Overall Passing\u001b[39m\u001b[38;5;124m'\u001b[39m]]\n\u001b[1;32m      3\u001b[0m \u001b[38;5;28mprint\u001b[39m(type_summary)\n",
      "File \u001b[0;32m~/anaconda3/lib/python3.11/site-packages/pandas/core/frame.py:8402\u001b[0m, in \u001b[0;36mDataFrame.groupby\u001b[0;34m(self, by, axis, level, as_index, sort, group_keys, squeeze, observed, dropna)\u001b[0m\n\u001b[1;32m   8399\u001b[0m     \u001b[38;5;28;01mraise\u001b[39;00m \u001b[38;5;167;01mTypeError\u001b[39;00m(\u001b[38;5;124m\"\u001b[39m\u001b[38;5;124mYou have to supply one of \u001b[39m\u001b[38;5;124m'\u001b[39m\u001b[38;5;124mby\u001b[39m\u001b[38;5;124m'\u001b[39m\u001b[38;5;124m and \u001b[39m\u001b[38;5;124m'\u001b[39m\u001b[38;5;124mlevel\u001b[39m\u001b[38;5;124m'\u001b[39m\u001b[38;5;124m\"\u001b[39m)\n\u001b[1;32m   8400\u001b[0m axis \u001b[38;5;241m=\u001b[39m \u001b[38;5;28mself\u001b[39m\u001b[38;5;241m.\u001b[39m_get_axis_number(axis)\n\u001b[0;32m-> 8402\u001b[0m \u001b[38;5;28;01mreturn\u001b[39;00m DataFrameGroupBy(\n\u001b[1;32m   8403\u001b[0m     obj\u001b[38;5;241m=\u001b[39m\u001b[38;5;28mself\u001b[39m,\n\u001b[1;32m   8404\u001b[0m     keys\u001b[38;5;241m=\u001b[39mby,\n\u001b[1;32m   8405\u001b[0m     axis\u001b[38;5;241m=\u001b[39maxis,\n\u001b[1;32m   8406\u001b[0m     level\u001b[38;5;241m=\u001b[39mlevel,\n\u001b[1;32m   8407\u001b[0m     as_index\u001b[38;5;241m=\u001b[39mas_index,\n\u001b[1;32m   8408\u001b[0m     sort\u001b[38;5;241m=\u001b[39msort,\n\u001b[1;32m   8409\u001b[0m     group_keys\u001b[38;5;241m=\u001b[39mgroup_keys,\n\u001b[1;32m   8410\u001b[0m     squeeze\u001b[38;5;241m=\u001b[39msqueeze,\n\u001b[1;32m   8411\u001b[0m     observed\u001b[38;5;241m=\u001b[39mobserved,\n\u001b[1;32m   8412\u001b[0m     dropna\u001b[38;5;241m=\u001b[39mdropna,\n\u001b[1;32m   8413\u001b[0m )\n",
      "File \u001b[0;32m~/anaconda3/lib/python3.11/site-packages/pandas/core/groupby/groupby.py:965\u001b[0m, in \u001b[0;36mGroupBy.__init__\u001b[0;34m(self, obj, keys, axis, level, grouper, exclusions, selection, as_index, sort, group_keys, squeeze, observed, mutated, dropna)\u001b[0m\n\u001b[1;32m    962\u001b[0m \u001b[38;5;28;01mif\u001b[39;00m grouper \u001b[38;5;129;01mis\u001b[39;00m \u001b[38;5;28;01mNone\u001b[39;00m:\n\u001b[1;32m    963\u001b[0m     \u001b[38;5;28;01mfrom\u001b[39;00m \u001b[38;5;21;01mpandas\u001b[39;00m\u001b[38;5;21;01m.\u001b[39;00m\u001b[38;5;21;01mcore\u001b[39;00m\u001b[38;5;21;01m.\u001b[39;00m\u001b[38;5;21;01mgroupby\u001b[39;00m\u001b[38;5;21;01m.\u001b[39;00m\u001b[38;5;21;01mgrouper\u001b[39;00m \u001b[38;5;28;01mimport\u001b[39;00m get_grouper\n\u001b[0;32m--> 965\u001b[0m     grouper, exclusions, obj \u001b[38;5;241m=\u001b[39m get_grouper(\n\u001b[1;32m    966\u001b[0m         obj,\n\u001b[1;32m    967\u001b[0m         keys,\n\u001b[1;32m    968\u001b[0m         axis\u001b[38;5;241m=\u001b[39maxis,\n\u001b[1;32m    969\u001b[0m         level\u001b[38;5;241m=\u001b[39mlevel,\n\u001b[1;32m    970\u001b[0m         sort\u001b[38;5;241m=\u001b[39msort,\n\u001b[1;32m    971\u001b[0m         observed\u001b[38;5;241m=\u001b[39mobserved,\n\u001b[1;32m    972\u001b[0m         mutated\u001b[38;5;241m=\u001b[39m\u001b[38;5;28mself\u001b[39m\u001b[38;5;241m.\u001b[39mmutated,\n\u001b[1;32m    973\u001b[0m         dropna\u001b[38;5;241m=\u001b[39m\u001b[38;5;28mself\u001b[39m\u001b[38;5;241m.\u001b[39mdropna,\n\u001b[1;32m    974\u001b[0m     )\n\u001b[1;32m    976\u001b[0m \u001b[38;5;28mself\u001b[39m\u001b[38;5;241m.\u001b[39mobj \u001b[38;5;241m=\u001b[39m obj\n\u001b[1;32m    977\u001b[0m \u001b[38;5;28mself\u001b[39m\u001b[38;5;241m.\u001b[39maxis \u001b[38;5;241m=\u001b[39m obj\u001b[38;5;241m.\u001b[39m_get_axis_number(axis)\n",
      "File \u001b[0;32m~/anaconda3/lib/python3.11/site-packages/pandas/core/groupby/grouper.py:888\u001b[0m, in \u001b[0;36mget_grouper\u001b[0;34m(obj, key, axis, level, sort, observed, mutated, validate, dropna)\u001b[0m\n\u001b[1;32m    886\u001b[0m         in_axis, level, gpr \u001b[38;5;241m=\u001b[39m \u001b[38;5;28;01mFalse\u001b[39;00m, gpr, \u001b[38;5;28;01mNone\u001b[39;00m\n\u001b[1;32m    887\u001b[0m     \u001b[38;5;28;01melse\u001b[39;00m:\n\u001b[0;32m--> 888\u001b[0m         \u001b[38;5;28;01mraise\u001b[39;00m \u001b[38;5;167;01mKeyError\u001b[39;00m(gpr)\n\u001b[1;32m    889\u001b[0m \u001b[38;5;28;01melif\u001b[39;00m \u001b[38;5;28misinstance\u001b[39m(gpr, Grouper) \u001b[38;5;129;01mand\u001b[39;00m gpr\u001b[38;5;241m.\u001b[39mkey \u001b[38;5;129;01mis\u001b[39;00m \u001b[38;5;129;01mnot\u001b[39;00m \u001b[38;5;28;01mNone\u001b[39;00m:\n\u001b[1;32m    890\u001b[0m     \u001b[38;5;66;03m# Add key to exclusions\u001b[39;00m\n\u001b[1;32m    891\u001b[0m     exclusions\u001b[38;5;241m.\u001b[39madd(gpr\u001b[38;5;241m.\u001b[39mkey)\n",
      "\u001b[0;31mKeyError\u001b[0m: 'School Type'"
     ]
    }
   ],
   "source": [
    "type_summary = school_summary.groupby('School Type').mean()\n",
    "type_summary = type_summary[['Average Math Score', 'Average Reading Score', '% Passing Math', '% Passing Reading', '% Overall Passing']]\n",
    "print(type_summary)\n"
   ]
  },
  {
   "cell_type": "code",
   "execution_count": null,
   "id": "eea5bb82-d394-465a-8fbf-22736e325550",
   "metadata": {},
   "outputs": [],
   "source": []
  }
 ],
 "metadata": {
  "kernelspec": {
   "display_name": "Python 3 (ipykernel)",
   "language": "python",
   "name": "python3"
  },
  "language_info": {
   "codemirror_mode": {
    "name": "ipython",
    "version": 3
   },
   "file_extension": ".py",
   "mimetype": "text/x-python",
   "name": "python",
   "nbconvert_exporter": "python",
   "pygments_lexer": "ipython3",
   "version": "3.11.3"
  }
 },
 "nbformat": 4,
 "nbformat_minor": 5
}
